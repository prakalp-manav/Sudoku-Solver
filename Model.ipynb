{
 "cells": [
  {
   "cell_type": "code",
   "execution_count": 19,
   "metadata": {},
   "outputs": [],
   "source": [
    "import tensorflow as tf\n",
    "import os\n",
    "import numpy as np\n",
    "import matplotlib.pyplot as plt\n",
    "import cv2\n",
    "from keras.utils import to_categorical\n",
    "from tqdm import tqdm"
   ]
  },
  {
   "cell_type": "code",
   "execution_count": 20,
   "metadata": {},
   "outputs": [
    {
     "name": "stderr",
     "output_type": "stream",
     "text": [
      "100%|██████████| 10160/10160 [00:02<00:00, 4274.19it/s]\n"
     ]
    }
   ],
   "source": [
    "files = []\n",
    "df = []\n",
    "lbl = []\n",
    "\n",
    "for filename in tqdm(os.listdir(\"Data/\")):\n",
    "    image = cv2.imread('Data/'+filename,0)\n",
    "    h, w = image.shape\n",
    "    r = 28 / w\n",
    "    dim = (28, int(r * h))\n",
    "    image = cv2.resize(image, dim)\n",
    "    image = image.reshape((1, 784)).astype('float32')\n",
    "    df.append(image)\n",
    "    lbl.append(int(filename.split('-')[0].split('img')[1])-1)"
   ]
  },
  {
   "cell_type": "code",
   "execution_count": 21,
   "metadata": {},
   "outputs": [],
   "source": [
    "df = np.array(df)\n",
    "lbl = np.array(lbl)\n",
    "df = df.reshape((df.shape[0], 784)).astype('float32')\n",
    "indices = np.random.permutation(df.shape[0])\n",
    "np.take(df, indices, axis=0, out=df)\n",
    "np.take(lbl, indices, axis=0, out=lbl)\n",
    "\n",
    "b = int(df.shape[0] * 0.8)\n",
    "xtrain = df[:b]\n",
    "ytrain = lbl[:b]\n",
    "xtest = df[b:]\n",
    "ytest = lbl[b:]"
   ]
  },
  {
   "cell_type": "code",
   "execution_count": 22,
   "metadata": {},
   "outputs": [
    {
     "data": {
      "text/plain": [
       "(784,)"
      ]
     },
     "execution_count": 22,
     "metadata": {},
     "output_type": "execute_result"
    }
   ],
   "source": [
    "df[0].shape"
   ]
  },
  {
   "cell_type": "code",
   "execution_count": 23,
   "metadata": {},
   "outputs": [],
   "source": [
    "num_pixels = 784\n",
    "num_classes = 10\n",
    "\n",
    "xtrain = xtrain / 255\n",
    "xtest = xtest / 255\n"
   ]
  },
  {
   "cell_type": "code",
   "execution_count": 24,
   "metadata": {},
   "outputs": [],
   "source": [
    "ytrain = to_categorical(ytrain)\n",
    "ytest = to_categorical(ytest)\n",
    "\n",
    "l0 = tf.keras.layers.Dense(num_pixels, input_dim=num_pixels, activation='relu', kernel_initializer='normal')\n",
    "l1 = tf.keras.layers.Dense(num_classes, activation='softmax', kernel_initializer='normal')\n",
    "model = tf.keras.Sequential([l0, l1])\n",
    "\n",
    "history = model.compile(loss='categorical_crossentropy', optimizer='adam', metrics=['accuracy'])"
   ]
  },
  {
   "cell_type": "code",
   "execution_count": 25,
   "metadata": {},
   "outputs": [
    {
     "name": "stdout",
     "output_type": "stream",
     "text": [
      "Epoch 1/10\n"
     ]
    },
    {
     "name": "stdout",
     "output_type": "stream",
     "text": [
      "813/813 - 5s - 7ms/step - accuracy: 0.8516 - loss: 0.5304 - val_accuracy: 0.8898 - val_loss: 0.3677\n",
      "Epoch 2/10\n",
      "813/813 - 4s - 5ms/step - accuracy: 0.9176 - loss: 0.2708 - val_accuracy: 0.8967 - val_loss: 0.3570\n",
      "Epoch 3/10\n",
      "813/813 - 4s - 5ms/step - accuracy: 0.9374 - loss: 0.2015 - val_accuracy: 0.9134 - val_loss: 0.2798\n",
      "Epoch 4/10\n",
      "813/813 - 4s - 4ms/step - accuracy: 0.9371 - loss: 0.1907 - val_accuracy: 0.9390 - val_loss: 0.2017\n",
      "Epoch 5/10\n",
      "813/813 - 4s - 4ms/step - accuracy: 0.9476 - loss: 0.1633 - val_accuracy: 0.9198 - val_loss: 0.2477\n",
      "Epoch 6/10\n",
      "813/813 - 4s - 5ms/step - accuracy: 0.9542 - loss: 0.1397 - val_accuracy: 0.9390 - val_loss: 0.1675\n",
      "Epoch 7/10\n",
      "813/813 - 4s - 5ms/step - accuracy: 0.9550 - loss: 0.1364 - val_accuracy: 0.9454 - val_loss: 0.1868\n",
      "Epoch 8/10\n",
      "813/813 - 4s - 5ms/step - accuracy: 0.9625 - loss: 0.1152 - val_accuracy: 0.9592 - val_loss: 0.1207\n",
      "Epoch 9/10\n",
      "813/813 - 4s - 5ms/step - accuracy: 0.9632 - loss: 0.1104 - val_accuracy: 0.9390 - val_loss: 0.1780\n",
      "Epoch 10/10\n",
      "813/813 - 4s - 5ms/step - accuracy: 0.9685 - loss: 0.0960 - val_accuracy: 0.9547 - val_loss: 0.1521\n"
     ]
    },
    {
     "data": {
      "text/plain": [
       "<keras.src.callbacks.history.History at 0x200ea0dde20>"
      ]
     },
     "execution_count": 25,
     "metadata": {},
     "output_type": "execute_result"
    }
   ],
   "source": [
    "model.fit(xtrain, ytrain, validation_data=(xtest, ytest), epochs=10, batch_size=10, verbose=2)"
   ]
  },
  {
   "cell_type": "code",
   "execution_count": 27,
   "metadata": {},
   "outputs": [
    {
     "data": {
      "text/plain": [
       "[0.15205217897891998, 0.9547244310379028]"
      ]
     },
     "execution_count": 27,
     "metadata": {},
     "output_type": "execute_result"
    }
   ],
   "source": [
    "model.evaluate(xtest, ytest, verbose=0)"
   ]
  },
  {
   "cell_type": "code",
   "execution_count": 29,
   "metadata": {},
   "outputs": [
    {
     "name": "stderr",
     "output_type": "stream",
     "text": [
      "WARNING:absl:You are saving your model as an HDF5 file via `model.save()` or `keras.saving.save_model(model)`. This file format is considered legacy. We recommend using instead the native Keras format, e.g. `model.save('my_model.keras')` or `keras.saving.save_model(model, 'my_model.keras')`. \n"
     ]
    }
   ],
   "source": [
    "model.save(\"/Model_saves/first.h5\")"
   ]
  },
  {
   "cell_type": "code",
   "execution_count": 32,
   "metadata": {},
   "outputs": [],
   "source": [
    "model.save(\"/Model_saves/first.keras\")"
   ]
  },
  {
   "cell_type": "code",
   "execution_count": 38,
   "metadata": {},
   "outputs": [
    {
     "data": {
      "image/png": "[encoded data removed]",
      "text/plain": [
       "<Figure size 640x480 with 1 Axes>"
      ]
     },
     "metadata": {},
     "output_type": "display_data"
    },
    {
     "name": "stdout",
     "output_type": "stream",
     "text": [
      "\u001b[1m1/1\u001b[0m \u001b[32m━━━━━━━━━━━━━━━━━━━━\u001b[0m\u001b[37m\u001b[0m \u001b[1m0s\u001b[0m 34ms/step\n",
      "1\n"
     ]
    }
   ],
   "source": [
    "i = 89\n",
    "image = xtest[i].reshape((28,28)).astype('float32')\n",
    "plt.imshow(image, cmap='Greys')\n",
    "plt.show()\n",
    "image = xtest[i].reshape((1, 784)).astype('float32')\n",
    "prediction = model.predict(image)\n",
    "print(prediction.argmax())"
   ]
  },
  {
   "cell_type": "code",
   "execution_count": 40,
   "metadata": {},
   "outputs": [
    {
     "data": {
      "text/plain": [
       "(784,)"
      ]
     },
     "execution_count": 40,
     "metadata": {},
     "output_type": "execute_result"
    }
   ],
   "source": [
    "df[0].shape"
   ]
  },
  {
   "cell_type": "code",
   "execution_count": 44,
   "metadata": {},
   "outputs": [],
   "source": [
    "te = cv2.imread('Data/img001-00001.png')"
   ]
  },
  {
   "cell_type": "code",
   "execution_count": 48,
   "metadata": {},
   "outputs": [
    {
     "data": {
      "text/plain": [
       "(128, 128, 3)"
      ]
     },
     "execution_count": 48,
     "metadata": {},
     "output_type": "execute_result"
    }
   ],
   "source": [
    "te.shape"
   ]
  },
  {
   "cell_type": "code",
   "execution_count": 50,
   "metadata": {},
   "outputs": [
    {
     "data": {
      "text/plain": [
       "(784,)"
      ]
     },
     "execution_count": 50,
     "metadata": {},
     "output_type": "execute_result"
    }
   ],
   "source": [
    "xtest[1].shape"
   ]
  },
  {
   "cell_type": "code",
   "execution_count": null,
   "metadata": {},
   "outputs": [],
   "source": []
  }
 ],
 "metadata": {
  "kernelspec": {
   "display_name": "Python 3",
   "language": "python",
   "name": "python3"
  },
  "language_info": {
   "codemirror_mode": {
    "name": "ipython",
    "version": 3
   },
   "file_extension": ".py",
   "mimetype": "text/x-python",
   "name": "python",
   "nbconvert_exporter": "python",
   "pygments_lexer": "ipython3",
   "version": "3.12.2"
  }
 },
 "nbformat": 4,
 "nbformat_minor": 2
}
